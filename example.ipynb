{
 "cells": [
  {
   "cell_type": "code",
   "execution_count": null,
   "id": "b0b5a6aa",
   "metadata": {},
   "outputs": [],
   "source": [
    "import meep as mp\n",
    "import numpy as np\n",
    "import matplotlib.pyplot as plt\n",
    "\n",
    "# Überprüfe, ob MEEP korrekt importiert wurde.\n",
    "print(\"MEEP erfolgreich importiert\")\n",
    "\n",
    "# Ein einfaches MEEP-Beispiel\n",
    "cell = mp.Block(size=mp.Vector3(1,1,1), center=mp.Vector3(), material=mp.Medium(epsilon=12))\n",
    "geometry = [cell]\n",
    "\n",
    "sources = [mp.Source(mp.ContinuousSource(frequency=0.15), component=mp.Ez, center=mp.Vector3())]\n",
    "\n",
    "sim = mp.Simulation(cell_size=mp.Vector3(10,10), geometry=geometry, sources=sources, resolution=10)\n",
    "\n",
    "sim.run(until=200)\n",
    "\n",
    "# Ausgabe einer einfachen Simulation\n",
    "eps_data = sim.get_array(center=mp.Vector3(), size=mp.Vector3(10,10), component=mp.Dielectric)\n",
    "plt.figure(dpi=100)\n",
    "plt.imshow(eps_data, interpolation='spline36', cmap='binary')\n",
    "plt.axis('off')\n",
    "plt.show()"
   ]
  }
 ],
 "metadata": {
  "kernelspec": {
   "display_name": "Python 3",
   "language": "python",
   "name": "python3"
  },
  "language_info": {
   "codemirror_mode": {
    "name": "ipython",
    "version": 3
   },
   "file_extension": ".py",
   "mimetype": "text/x-python",
   "name": "python",
   "nbconvert_exporter": "python",
   "pygments_lexer": "ipython3",
   "version": "3.7.3"
  }
 },
 "nbformat": 4,
 "nbformat_minor": 5
}