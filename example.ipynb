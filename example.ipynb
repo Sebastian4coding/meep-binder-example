{
 "cells": [
  {
"cell_type": "code",
"execution_count": null,
"id": "b0b5a6aa",
"metadata": {},
"outputs": [],
"source": [
 "import meep as mp\n",
 "import numpy as np\n",
 "import matplotlib.pyplot as plt\n",
 "\n",
 "print(\"MEEP-Version:\", mp.__version__)"
]
  }
 ],
 "metadata": {
  "kernelspec": {
"display_name": "Python 3",
"language": "python",
"name": "python3"
  },
  "language_info": {
"codemirror_mode": {
 "name": "ipython",
 "version": 3
},
"file_extension": ".py",
"mimetype": "text/x-python",
"name": "python",
"nbconvert_exporter": "python",
"pygments_lexer": "ipython3",
"version": "3.7.3"
  }
 },
 "nbformat": 4,
 "nbformat_minor": 5
}